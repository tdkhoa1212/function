{
 "cells": [
  {
   "cell_type": "code",
   "execution_count": 13,
   "metadata": {},
   "outputs": [
    {
     "name": "stdout",
     "output_type": "stream",
     "text": [
      "[10  7  6  2  1  3  5  8  6  2]\n",
      "[  0  10  20  30  40  50  60  70  80  90 100]\n",
      "[37 12 72  9 75  5 79 64 16  1 76 71  6 25 50 20 18 84 11 28 29 14 50 68\n",
      " 87 87 94 96 86 13  9  7 63 61 22 57  1  0 60 81  8 88 13 47 72 30 71  3\n",
      " 70 21]\n"
     ]
    },
    {
     "data": {
      "image/png": "[encoded data removed]",
      "text/plain": [
       "<Figure size 432x288 with 1 Axes>"
      ]
     },
     "metadata": {
      "needs_background": "light"
     },
     "output_type": "display_data"
    }
   ],
   "source": [
    "import numpy as np\n",
    "import matplotlib.pyplot as plt\n",
    "\n",
    "np.random.seed(1)\n",
    "# Creating dataset\n",
    "a = np.random.randint(100, size =(50))\n",
    " \n",
    "# Creating histogram\n",
    "hist, bins = np.histogram(a, bins = [0, 10,\n",
    "                                     20, 30,\n",
    "                                     40, 50,\n",
    "                                     60, 70,\n",
    "                                     80, 90,\n",
    "                                     100])\n",
    " \n",
    "plt.plot(a)\n",
    "# plt.stairs(hist, bins)\n",
    "plt.hist(bins[:-1], bins, weights=hist)\n",
    "\n",
    "print(hist)\n",
    "print(bins)\n",
    "print(a)"
   ]
  },
  {
   "cell_type": "code",
   "execution_count": 22,
   "metadata": {},
   "outputs": [
    {
     "name": "stdout",
     "output_type": "stream",
     "text": [
      "[ 0. 31. 62. 93.]\n"
     ]
    }
   ],
   "source": [
    "print(np.linspace(0, 93, 4))"
   ]
  },
  {
   "cell_type": "code",
   "execution_count": 27,
   "metadata": {},
   "outputs": [
    {
     "name": "stdout",
     "output_type": "stream",
     "text": [
      "shape: (277, 29376)\n"
     ]
    },
    {
     "name": "stderr",
     "output_type": "stream",
     "text": [
      "C:\\Users\\cuden\\AppData\\Local\\Temp\\ipykernel_3308\\1324653642.py:38: DeprecationWarning: elementwise comparison failed; this will raise an error in the future.\n",
      "  if ma == []:\n"
     ]
    },
    {
     "ename": "ValueError",
     "evalue": "The truth value of an array with more than one element is ambiguous. Use a.any() or a.all()",
     "output_type": "error",
     "traceback": [
      "\u001b[1;31m---------------------------------------------------------------------------\u001b[0m",
      "\u001b[1;31mValueError\u001b[0m                                Traceback (most recent call last)",
      "\u001b[1;32me:\\Enrico boss\\function\\test.ipynb Cell 3\u001b[0m in \u001b[0;36m<cell line: 72>\u001b[1;34m()\u001b[0m\n\u001b[0;32m     <a href='vscode-notebook-cell:/e%3A/Enrico%20boss/function/test.ipynb#W1sZmlsZQ%3D%3D?line=69'>70</a>\u001b[0m wavelet \u001b[39m=\u001b[39m wav_to_wavelet(wav_file)\n\u001b[0;32m     <a href='vscode-notebook-cell:/e%3A/Enrico%20boss/function/test.ipynb#W1sZmlsZQ%3D%3D?line=70'>71</a>\u001b[0m ma \u001b[39m=\u001b[39m wavelet_to_moving_average(wavelet, window)\n\u001b[1;32m---> <a href='vscode-notebook-cell:/e%3A/Enrico%20boss/function/test.ipynb#W1sZmlsZQ%3D%3D?line=71'>72</a>\u001b[0m hist, bins \u001b[39m=\u001b[39m stairway(wavelet, \u001b[39m25000\u001b[39;49m, \u001b[39m1000\u001b[39;49m)\n\u001b[0;32m     <a href='vscode-notebook-cell:/e%3A/Enrico%20boss/function/test.ipynb#W1sZmlsZQ%3D%3D?line=73'>74</a>\u001b[0m \u001b[39m# Plot wave -------------------------------------------------------------\u001b[39;00m\n\u001b[0;32m     <a href='vscode-notebook-cell:/e%3A/Enrico%20boss/function/test.ipynb#W1sZmlsZQ%3D%3D?line=74'>75</a>\u001b[0m fig \u001b[39m=\u001b[39m plt\u001b[39m.\u001b[39mfigure()  \n",
      "\u001b[1;32me:\\Enrico boss\\function\\test.ipynb Cell 3\u001b[0m in \u001b[0;36mstairway\u001b[1;34m(value, max_excursion, steps)\u001b[0m\n\u001b[0;32m     <a href='vscode-notebook-cell:/e%3A/Enrico%20boss/function/test.ipynb#W1sZmlsZQ%3D%3D?line=49'>50</a>\u001b[0m window \u001b[39m=\u001b[39m \u001b[39mlen\u001b[39m(value) \u001b[39m+\u001b[39m \u001b[39m1\u001b[39m \u001b[39m-\u001b[39m max_excursion\n\u001b[0;32m     <a href='vscode-notebook-cell:/e%3A/Enrico%20boss/function/test.ipynb#W1sZmlsZQ%3D%3D?line=50'>51</a>\u001b[0m ma \u001b[39m=\u001b[39m wavelet_to_moving_average(value, window)\n\u001b[1;32m---> <a href='vscode-notebook-cell:/e%3A/Enrico%20boss/function/test.ipynb#W1sZmlsZQ%3D%3D?line=51'>52</a>\u001b[0m bins \u001b[39m=\u001b[39m np\u001b[39m.\u001b[39mlinspace(\u001b[39mmin\u001b[39;49m(ma), \u001b[39mmax\u001b[39m(ma), steps)\n\u001b[0;32m     <a href='vscode-notebook-cell:/e%3A/Enrico%20boss/function/test.ipynb#W1sZmlsZQ%3D%3D?line=52'>53</a>\u001b[0m hist, bins \u001b[39m=\u001b[39m np\u001b[39m.\u001b[39mhistogram(a, bins \u001b[39m=\u001b[39m bins)\n\u001b[0;32m     <a href='vscode-notebook-cell:/e%3A/Enrico%20boss/function/test.ipynb#W1sZmlsZQ%3D%3D?line=53'>54</a>\u001b[0m \u001b[39m# plt.stairs(hist, bins)\u001b[39;00m\n",
      "\u001b[1;31mValueError\u001b[0m: The truth value of an array with more than one element is ambiguous. Use a.any() or a.all()"
     ]
    }
   ],
   "source": [
    "import numpy as np\n",
    "from scipy.io import wavfile\n",
    "from ssqueezepy import ssq_cwt\n",
    "import matplotlib.pyplot as plt\n",
    "from mpl_toolkits.mplot3d import Axes3D\n",
    "import sys\n",
    "\n",
    "# Get wavelet from .wav file\n",
    "def wav_to_wavelet(path):\n",
    "    '''\n",
    "    path: Direction to .wav file\n",
    "    '''\n",
    "    sample_rate, x = wavfile.read(path) \n",
    "    twx, wx, *_ = ssq_cwt(x)  # use wx\n",
    "    print(f'shape: {wx.shape}')\n",
    "    return np.abs(wx)\n",
    "\n",
    "# Moving average function\n",
    "def moving_average(array, window):\n",
    "    '''\n",
    "    array: short array have window length\n",
    "    window: predefine value\n",
    "    '''\n",
    "    ret = np.cumsum(array, dtype=float)\n",
    "    ret[window:] = ret[window:] - ret[:-window]\n",
    "    return ret[window - 1:] / window\n",
    "\n",
    "# Moving average for wavelet\n",
    "def wavelet_to_moving_average(matrix, window):\n",
    "    '''\n",
    "    matrix: a set of short array\n",
    "    window: predefine value\n",
    "    '''\n",
    "    ma = []\n",
    "    for i in matrix:\n",
    "        i = moving_average(i, window)\n",
    "        i = np.expand_dims(i, axis=0)\n",
    "        if ma == []:\n",
    "            ma = i\n",
    "        else:\n",
    "            ma = np.concatenate((ma, i), axis=0)\n",
    "    return ma\n",
    "\n",
    "def stairway(value, max_excursion, steps):\n",
    "    '''\n",
    "    value: wavelet\n",
    "    max_excursion: highest chosen value in stairway\n",
    "    steps: number of bins\n",
    "    '''\n",
    "    window = len(value) + 1 - max_excursion\n",
    "    ma = wavelet_to_moving_average(value, window)\n",
    "    bins = np.linspace(min(ma), max(ma), steps)\n",
    "    hist, bins = np.histogram(a, bins = bins)\n",
    "    # plt.stairs(hist, bins)\n",
    "    return hist, bins\n",
    "    \n",
    "\n",
    "\n",
    "# Plot a chosen row in the matrix\n",
    "def plot_row(matrix, row, ax, c, option='hist'):\n",
    "    get = matrix[row]\n",
    "    for i in range(5):\n",
    "        ax.plot(np.array([i]*len(get)), np.arange(len(get)), get, c=c)\n",
    "\n",
    "\n",
    "wav_file = 'wav/apple_and_lemmon.wav'\n",
    "row = 10\n",
    "window = 1000\n",
    "\n",
    "wavelet = wav_to_wavelet(wav_file)\n",
    "ma = wavelet_to_moving_average(wavelet, window)\n",
    "hist, bins = stairway(wavelet, 25000, 1000)\n",
    "\n",
    "# Plot wave -------------------------------------------------------------\n",
    "fig = plt.figure()  \n",
    "ax = fig.add_subplot(projection='3d')\n",
    "plot_row(wavelet, row, ax, 'orange')\n",
    "plot_row(ma, row, ax, 'b')\n",
    "# ax.hist(bins[:-1], bins, weights=hist)\n",
    "ax.set_title(f'Row {row} - Orange=source, Blue=averaged({window})')\n",
    "plt.show()\n"
   ]
  },
  {
   "cell_type": "code",
   "execution_count": 15,
   "metadata": {},
   "outputs": [
    {
     "name": "stdout",
     "output_type": "stream",
     "text": [
      "Collecting ssqueezepy\n",
      "  Using cached ssqueezepy-0.6.3-py3-none-any.whl (125 kB)\n",
      "Requirement already satisfied: scipy in c:\\users\\cuden\\anaconda3\\lib\\site-packages (from ssqueezepy) (1.9.1)\n",
      "Requirement already satisfied: numba in c:\\users\\cuden\\anaconda3\\lib\\site-packages (from ssqueezepy) (0.55.1)\n",
      "Requirement already satisfied: numpy in c:\\users\\cuden\\anaconda3\\lib\\site-packages (from ssqueezepy) (1.21.5)\n",
      "Requirement already satisfied: setuptools in c:\\users\\cuden\\anaconda3\\lib\\site-packages (from numba->ssqueezepy) (63.4.1)\n",
      "Requirement already satisfied: llvmlite<0.39,>=0.38.0rc1 in c:\\users\\cuden\\anaconda3\\lib\\site-packages (from numba->ssqueezepy) (0.38.0)\n",
      "Installing collected packages: ssqueezepy\n",
      "Successfully installed ssqueezepy-0.6.3\n",
      "Note: you may need to restart the kernel to use updated packages.\n"
     ]
    }
   ],
   "source": [
    "pip install ssqueezepy"
   ]
  }
 ],
 "metadata": {
  "kernelspec": {
   "display_name": "base",
   "language": "python",
   "name": "python3"
  },
  "language_info": {
   "codemirror_mode": {
    "name": "ipython",
    "version": 3
   },
   "file_extension": ".py",
   "mimetype": "text/x-python",
   "name": "python",
   "nbconvert_exporter": "python",
   "pygments_lexer": "ipython3",
   "version": "3.9.13 (main, Aug 25 2022, 23:51:50) [MSC v.1916 64 bit (AMD64)]"
  },
  "orig_nbformat": 4,
  "vscode": {
   "interpreter": {
    "hash": "0f9248da3dea885c0c47324cc0eed29873d6a099e6bea14d89d006c8b04da58f"
   }
  }
 },
 "nbformat": 4,
 "nbformat_minor": 2
}

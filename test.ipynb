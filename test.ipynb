{
 "cells": [
  {
   "cell_type": "code",
   "execution_count": 22,
   "metadata": {},
   "outputs": [
    {
     "name": "stdout",
     "output_type": "stream",
     "text": [
      "[ 0. 31. 62. 93.]\n"
     ]
    }
   ],
   "source": [
    "print(np.linspace(0, 93, 4))"
   ]
  },
  {
   "cell_type": "code",
   "execution_count": 104,
   "metadata": {},
   "outputs": [
    {
     "name": "stdout",
     "output_type": "stream",
     "text": [
      "shape: (277, 29376)\n"
     ]
    },
    {
     "name": "stderr",
     "output_type": "stream",
     "text": [
      "C:\\Users\\cuden\\AppData\\Local\\Temp\\ipykernel_12580\\591044138.py:46: DeprecationWarning: elementwise comparison failed; this will raise an error in the future.\n",
      "  if ma == []:\n"
     ]
    },
    {
     "data": {
      "image/png": "[encoded data removed]",
      "text/plain": [
       "<Figure size 432x288 with 1 Axes>"
      ]
     },
     "metadata": {
      "needs_background": "light"
     },
     "output_type": "display_data"
    }
   ],
   "source": [
    "import numpy as np\n",
    "from scipy.io import wavfile\n",
    "from ssqueezepy import ssq_cwt\n",
    "import matplotlib.pyplot as plt\n",
    "from mpl_toolkits.mplot3d import Axes3D\n",
    "from sklearn.preprocessing import MinMaxScaler\n",
    "import sys\n",
    "\n",
    "def scaler(array, min_, max_):\n",
    "    array = array.reshape((-1, 1))\n",
    "    scaler = MinMaxScaler(feature_range=(min_, max_))\n",
    "    s_data = scaler.fit_transform(array)\n",
    "    s_data = np.squeeze(s_data)\n",
    "    return s_data\n",
    "\n",
    "# Get wavelet from .wav file\n",
    "def wav_to_wavelet(path):\n",
    "    '''\n",
    "    path: Direction to .wav file\n",
    "    '''\n",
    "    sample_rate, x = wavfile.read(path) \n",
    "    twx, wx, *_ = ssq_cwt(x)  # use wx\n",
    "    print(f'shape: {wx.shape}')\n",
    "    return np.abs(wx)\n",
    "\n",
    "# Moving average function\n",
    "def moving_average(array, window):\n",
    "    '''\n",
    "    array: short array have window length\n",
    "    window: predefine value\n",
    "    '''\n",
    "    ret = np.cumsum(array, dtype=float)\n",
    "    ret[window:] = ret[window:] - ret[:-window]\n",
    "    return ret[window - 1:] / window\n",
    "\n",
    "# Moving average for wavelet\n",
    "def wavelet_to_moving_average(matrix, window):\n",
    "    '''\n",
    "    matrix: a set of short array\n",
    "    window: predefine value\n",
    "    '''\n",
    "    ma = []\n",
    "    for i in matrix:\n",
    "        i = moving_average(i, window)\n",
    "        i = np.expand_dims(i, axis=0)\n",
    "        if ma == []:\n",
    "            ma = i\n",
    "        else:\n",
    "            ma = np.concatenate((ma, i), axis=0)\n",
    "    return ma\n",
    "\n",
    "\n",
    "def stairway(ma_row, bins, max_excursion):\n",
    "    '''\n",
    "    value: wavelet\n",
    "    max_excursion: highest chosen value in stairway\n",
    "    steps: number of bins\n",
    "    '''\n",
    "    range_ = np.linspace(0, max_excursion, bins).tolist()\n",
    "    min_ma = np.min(ma_row)\n",
    "    max_ma = np.max(ma_row)\n",
    "    \n",
    "    if max_ma > range_[-1]:\n",
    "        range_[-1] = max_ma\n",
    "    pair_ = [range_[i:i+2] for i in range(bins-1)]\n",
    "\n",
    "    ma_hist = []\n",
    "    for va in ma_row:\n",
    "        for each_pair in pair_:\n",
    "            if each_pair[0] < va < each_pair[1]:\n",
    "                ma_hist.append(pair_.index(each_pair))\n",
    "    \n",
    "    ma_hist = np.array(ma_hist)\n",
    "    ma_hist = ma_hist.reshape(-1, 1)\n",
    "    scaler = MinMaxScaler(feature_range=(min_ma, max_ma))\n",
    "    ma_hist = scaler.fit_transform(ma_hist)\n",
    "    ma_hist = ma_hist.reshape(-1, )\n",
    "    return ma_hist    \n",
    "\n",
    "# Plot a chosen row in the matrix\n",
    "def plot_row(row, ax, c, matrix=None, option=None, hist=None, width=None):\n",
    "    if np.max(matrix) != None:\n",
    "        get = matrix[row]\n",
    "\n",
    "    if np.max(hist) != None:\n",
    "        # ax.bar(hist, hist, color=c, width=width)\n",
    "        ax.plot(hist, c=c)\n",
    "    else:\n",
    "        ax.plot(get, c=c)\n",
    "\n",
    "\n",
    "\n",
    "# parameters -----------------------------------------------------------\n",
    "wav_file = 'wav/apple_and_lemmon.wav'\n",
    "row = 10\n",
    "window = 1000\n",
    "max_excursion = 20\n",
    "bins = 10\n",
    "\n",
    "# computing part -------------------------------------------------------\n",
    "wavelet = wav_to_wavelet(wav_file)\n",
    "ma = wavelet_to_moving_average(wavelet, window)\n",
    "ma_hist = stairway(ma[row], bins, max_excursion)\n",
    "\n",
    "# Plot part -------------------------------------------------------------\n",
    "fig = plt.figure()  \n",
    "ax = fig.add_subplot()\n",
    "plot_row(row, ax, 'orange', matrix=wavelet)\n",
    "plot_row(row, ax, 'b', matrix=ma)\n",
    "plot_row(row, ax, 'g', hist=ma_hist, width=0.4)\n",
    "\n",
    "ax.set_title(f'Row {row} - Orange=source, Blue=averaged({window}), Green=histogram')\n",
    "plt.show()\n"
   ]
  },
  {
   "cell_type": "code",
   "execution_count": null,
   "metadata": {},
   "outputs": [],
   "source": []
  }
 ],
 "metadata": {
  "kernelspec": {
   "display_name": "base",
   "language": "python",
   "name": "python3"
  },
  "language_info": {
   "codemirror_mode": {
    "name": "ipython",
    "version": 3
   },
   "file_extension": ".py",
   "mimetype": "text/x-python",
   "name": "python",
   "nbconvert_exporter": "python",
   "pygments_lexer": "ipython3",
   "version": "3.9.13"
  },
  "orig_nbformat": 4,
  "vscode": {
   "interpreter": {
    "hash": "0f9248da3dea885c0c47324cc0eed29873d6a099e6bea14d89d006c8b04da58f"
   }
  }
 },
 "nbformat": 4,
 "nbformat_minor": 2
}
